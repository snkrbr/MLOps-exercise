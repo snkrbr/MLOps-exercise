{
  "nbformat": 4,
  "nbformat_minor": 0,
  "metadata": {
    "colab": {
      "provenance": [],
      "authorship_tag": "ABX9TyMjYGNvC6NHTeZWuu6KrZeB",
      "include_colab_link": true
    },
    "kernelspec": {
      "name": "python3",
      "display_name": "Python 3"
    },
    "language_info": {
      "name": "python"
    }
  },
  "cells": [
    {
      "cell_type": "markdown",
      "metadata": {
        "id": "view-in-github",
        "colab_type": "text"
      },
      "source": [
        "<a href=\"https://colab.research.google.com/github/snkrbr/MLOps-exercise/blob/main/MLOps_exercise.ipynb\" target=\"_parent\"><img src=\"https://colab.research.google.com/assets/colab-badge.svg\" alt=\"Open In Colab\"/></a>"
      ]
    },
    {
      "cell_type": "code",
      "execution_count": null,
      "metadata": {
        "id": "maL1F4S0yizq"
      },
      "outputs": [],
      "source": [
        "#app.py\n",
        "from sklearn.datasets import load_iris\n",
        "from sklearn.model_selection import train_test_split\n",
        "from sklearn.neighbors import KNeighborsClassifier\n",
        "\n",
        "iris = load_iris()\n",
        "X_train, X_test, y_train, y_test = train_test_split(iris.data, iris.target, test_size=0.2)\n",
        "\n",
        "model = KNeighborsClassifier(n_neighbors=5)\n",
        "model.fit(X_train, y_train)\n",
        "\n",
        "import streamlit as st\n",
        "\n",
        "st.title(\"Iris Classification\")\n",
        "st.sidebar.title(\"Input Parameters\")\n",
        "\n",
        "sepal_length = st.sidebar.slider(\"Sepal length\", 0.0, 10.0, 5.0)\n",
        "sepal_width = st.sidebar.slider(\"Sepal width\", 0.0, 10.0, 5.0)\n",
        "petal_length = st.sidebar.slider(\"Petal length\", 0.0, 10.0, 5.0)\n",
        "petal_width = st.sidebar.slider(\"Petal width\", 0.0, 10.0, 5.0)\n",
        "\n",
        "input_data = [[sepal_length, sepal_width, petal_length, petal_width]]\n",
        "\n",
        "if st.sidebar.button(\"Predict\"):\n",
        "    prediction = model.predict(input_data)\n",
        "    st.write(f\"Predicted iris species: {iris.target_names[prediction[0]]}\")"
      ]
    },
    {
      "cell_type": "code",
      "source": [],
      "metadata": {
        "id": "gAVdylC8ypzq"
      },
      "execution_count": null,
      "outputs": []
    }
  ]
}